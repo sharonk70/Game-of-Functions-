{
 "cells": [
  {
   "cell_type": "code",
   "execution_count": 2,
   "id": "2e5c9703",
   "metadata": {},
   "outputs": [],
   "source": [
    "def list_sum(lname): \n",
    "    value = 0 \n",
    "    for values in lname:\n",
    "        value += values\n",
    "        print(value)"
   ]
  },
  {
   "cell_type": "code",
   "execution_count": 3,
   "id": "cccad18e",
   "metadata": {},
   "outputs": [
    {
     "name": "stdout",
     "output_type": "stream",
     "text": [
      "1\n",
      "4\n",
      "9\n",
      "11\n",
      "15\n",
      "None\n"
     ]
    }
   ],
   "source": [
    "list_ = [1,3,5,2,4]\n",
    "print (list_sum(list_))"
   ]
  },
  {
   "cell_type": "code",
   "execution_count": 4,
   "id": "a59c0d3a",
   "metadata": {},
   "outputs": [
    {
     "name": "stdout",
     "output_type": "stream",
     "text": [
      "14\n",
      "48\n",
      "493\n",
      "25238\n",
      "70883\n",
      "None\n"
     ]
    }
   ],
   "source": [
    "list_ = [14,34,445,24745,45645]\n",
    "print (list_sum(list_))"
   ]
  },
  {
   "cell_type": "code",
   "execution_count": null,
   "id": "ad16dcad",
   "metadata": {},
   "outputs": [],
   "source": []
  }
 ],
 "metadata": {
  "kernelspec": {
   "display_name": "Python 3",
   "language": "python",
   "name": "python3"
  },
  "language_info": {
   "codemirror_mode": {
    "name": "ipython",
    "version": 3
   },
   "file_extension": ".py",
   "mimetype": "text/x-python",
   "name": "python",
   "nbconvert_exporter": "python",
   "pygments_lexer": "ipython3",
   "version": "3.8.8"
  }
 },
 "nbformat": 4,
 "nbformat_minor": 5
}
